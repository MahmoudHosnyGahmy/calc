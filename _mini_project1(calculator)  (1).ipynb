{
 "cells": [
  {
   "cell_type": "code",
   "execution_count": null,
   "id": "25a55c80",
   "metadata": {},
   "outputs": [
    {
     "name": "stdout",
     "output_type": "stream",
     "text": [
      "select the operation\n",
      "1.add\n",
      "2.subtract\n",
      "3.multiply\n",
      "4.divide\n",
      "select the operation(1/2/3/4) 2\n",
      "please enter the value of num_15\n",
      "please enter the value num_23\n",
      "5.0 - 3.0 = 2.0\n",
      "do u want another operationTrue\n"
     ]
    }
   ],
   "source": [
    "#defining the functions of  the calculator\n",
    "\n",
    "def add(x,y):\n",
    "    return x + y\n",
    "\n",
    "def subtract(x,y):\n",
    "    return x - y\n",
    "\n",
    "def multiply(x,y):\n",
    "    return x * y\n",
    "\n",
    "def divide(x,y):\n",
    "    return x / y\n",
    "\n",
    "#select the operation whitch the user want\n",
    "\n",
    "print('select the operation')\n",
    "print('1.add')\n",
    "print('2.subtract')\n",
    "print('3.multiply')\n",
    "print('4.divide')\n",
    "\n",
    "#take the input from the user\n",
    "\n",
    "choice=input('select the operation(1/2/3/4) ')\n",
    "while True :\n",
    "\n",
    "    if choice in ('1','2','3','4'):\n",
    "        \n",
    "        num_1=float(input('please enter the value of num_1'))\n",
    "        num_2=float(input('please enter the value num_2'))\n",
    "        \n",
    "        if choice == '1' :\n",
    "            print(num_1,'+',num_2,'=',add(num_1,num_2))\n",
    "        \n",
    "        elif choice == '2' :\n",
    "            print(num_1,'-',num_2,'=',subtract(num_1,num_2))\n",
    "        \n",
    "        elif choice == '3' :\n",
    "            print(num_1,'*',num_2,'=',multiply(num_1,num_2))\n",
    "        \n",
    "        elif choice == '4' :\n",
    "            print(num_1,'/',num_2,'=',divide(num_1,num_2))\n",
    "        \n",
    "        #check if  the user want another operation and if no stop the function\n",
    "        new_selection=input('do u want another operation')\n",
    "        \n",
    "        if new_selection == 'False':\n",
    "            break \n",
    "    else :\n",
    "        \n",
    "        print('invalid input')\n",
    "        "
   ]
  },
  {
   "cell_type": "code",
   "execution_count": null,
   "id": "afd2805c",
   "metadata": {},
   "outputs": [],
   "source": []
  },
  {
   "cell_type": "code",
   "execution_count": null,
   "id": "46672f27",
   "metadata": {},
   "outputs": [],
   "source": []
  },
  {
   "cell_type": "code",
   "execution_count": null,
   "id": "cef474a0",
   "metadata": {},
   "outputs": [],
   "source": []
  }
 ],
 "metadata": {
  "kernelspec": {
   "display_name": "Python 3 (ipykernel)",
   "language": "python",
   "name": "python3"
  },
  "language_info": {
   "codemirror_mode": {
    "name": "ipython",
    "version": 3
   },
   "file_extension": ".py",
   "mimetype": "text/x-python",
   "name": "python",
   "nbconvert_exporter": "python",
   "pygments_lexer": "ipython3",
   "version": "3.11.4"
  }
 },
 "nbformat": 4,
 "nbformat_minor": 5
}
